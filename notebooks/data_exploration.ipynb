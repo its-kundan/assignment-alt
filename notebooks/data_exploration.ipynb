{
 "cells": [
  {
   "cell_type": "code",
   "execution_count": null,
   "id": "f456ff21",
   "metadata": {
    "vscode": {
     "languageId": "plaintext"
    }
   },
   "outputs": [],
   "source": [
    "# Customer Retention Cohort Analysis\n",
    "import pandas as pd\n",
    "import matplotlib.pyplot as plt\n",
    "import seaborn as sns\n",
    "\n",
    "# Load data\n",
    "orders = pd.read_csv('../data/customer_orders.csv')\n",
    "payments = pd.read_csv('../data/payments.csv')\n",
    "\n",
    "# Convert dates\n",
    "orders['order_date'] = pd.to_datetime(orders['order_date'])\n",
    "payments['payment_date'] = pd.to_datetime(payments['payment_date'])\n",
    "\n",
    "# Cohort analysis\n",
    "first_orders = orders.groupby('customer_id')['order_date'].min().reset_index()\n",
    "first_orders.columns = ['customer_id', 'first_order_date']\n",
    "first_orders['cohort_month'] = first_orders['first_order_date'].dt.to_period('M')\n",
    "\n",
    "# Merge with all orders\n",
    "orders_with_cohort = pd.merge(orders, first_orders, on='customer_id')\n",
    "orders_with_cohort['order_month'] = orders_with_cohort['order_date'].dt.to_period('M')\n",
    "\n",
    "# Calculate cohort periods\n",
    "orders_with_cohort['cohort_period'] = (orders_with_cohort['order_month'] - orders_with_cohort['cohort_month']).apply(lambda x: x.n)\n",
    "\n",
    "# Retention heatmap\n",
    "cohort_pivot = orders_with_cohort.pivot_table(\n",
    "    index='cohort_month',\n",
    "    columns='cohort_period',\n",
    "    values='customer_id',\n",
    "    aggfunc=pd.Series.nunique\n",
    ")\n",
    "\n",
    "plt.figure(figsize=(12, 8))\n",
    "sns.heatmap(cohort_pivot, annot=True, fmt='.0f', cmap='Blues')\n",
    "plt.title('Customer Retention by Cohort')\n",
    "plt.savefig('../visualizations/retention_heatmap.png')\n",
    "plt.show()"
   ]
  }
 ],
 "metadata": {
  "language_info": {
   "name": "python"
  }
 },
 "nbformat": 4,
 "nbformat_minor": 5
}
